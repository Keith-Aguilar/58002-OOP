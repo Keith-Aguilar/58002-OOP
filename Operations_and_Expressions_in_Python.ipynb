{
  "nbformat": 4,
  "nbformat_minor": 0,
  "metadata": {
    "colab": {
      "provenance": [],
      "authorship_tag": "ABX9TyPqhe5D2R5/xTgPnHXpPwmu",
      "include_colab_link": true
    },
    "kernelspec": {
      "name": "python3",
      "display_name": "Python 3"
    },
    "language_info": {
      "name": "python"
    }
  },
  "cells": [
    {
      "cell_type": "markdown",
      "metadata": {
        "id": "view-in-github",
        "colab_type": "text"
      },
      "source": [
        "<a href=\"https://colab.research.google.com/github/Keith-Aguilar/58002-OOP/blob/main/Operations_and_Expressions_in_Python.ipynb\" target=\"_parent\"><img src=\"https://colab.research.google.com/assets/colab-badge.svg\" alt=\"Open In Colab\"/></a>"
      ]
    },
    {
      "cell_type": "code",
      "execution_count": null,
      "metadata": {
        "id": "2AMf_iM_zqZG"
      },
      "outputs": [],
      "source": []
    },
    {
      "cell_type": "markdown",
      "source": [
        "boolean operators"
      ],
      "metadata": {
        "id": "VTo88w2lz0-6"
      }
    },
    {
      "cell_type": "code",
      "source": [
        "\n",
        "print(10>9)\n",
        "print(10<9)\n"
      ],
      "metadata": {
        "id": "eumIo2Hvz36h"
      },
      "execution_count": null,
      "outputs": []
    },
    {
      "cell_type": "code",
      "source": [
        "a = 10\n",
        "b = 9\n",
        "print(a>b)\n",
        "print(a<b)\n",
        "print(a==b)\n",
        "print(b==b)"
      ],
      "metadata": {
        "colab": {
          "base_uri": "https://localhost:8080/"
        },
        "id": "X-xBjXxI0e1R",
        "outputId": "4b433e45-3728-4c3f-8883-c30976340177"
      },
      "execution_count": 4,
      "outputs": [
        {
          "output_type": "stream",
          "name": "stdout",
          "text": [
            "True\n",
            "False\n",
            "False\n",
            "True\n"
          ]
        }
      ]
    },
    {
      "cell_type": "markdown",
      "source": [
        "BooL () Function"
      ],
      "metadata": {
        "id": "DqqizgDf05xJ"
      }
    },
    {
      "cell_type": "code",
      "source": [
        "print(bool(1))\n",
        "print(bool(\"Ana\"))\n",
        "print(bool(2))\n",
        "print(bool(0))\n",
        "print(bool(None))"
      ],
      "metadata": {
        "colab": {
          "base_uri": "https://localhost:8080/"
        },
        "id": "bZMaC_4p0-mB",
        "outputId": "fbb4f0f5-9340-4eaa-ed54-d81e0c5c9c6f"
      },
      "execution_count": 6,
      "outputs": [
        {
          "output_type": "stream",
          "name": "stdout",
          "text": [
            "True\n",
            "True\n",
            "True\n",
            "False\n",
            "False\n"
          ]
        }
      ]
    },
    {
      "cell_type": "markdown",
      "source": [
        "Functiona can return Boolean"
      ],
      "metadata": {
        "id": "GqCE2N9h2Hqr"
      }
    },
    {
      "cell_type": "code",
      "source": [
        "def myfunction():\n",
        "  return False\n",
        "\n",
        "print(myfunction())"
      ],
      "metadata": {
        "colab": {
          "base_uri": "https://localhost:8080/"
        },
        "id": "vy0J-o6a2Kdy",
        "outputId": "9651bb94-a8e6-45d3-b0b9-4be5db53de03"
      },
      "execution_count": 10,
      "outputs": [
        {
          "output_type": "stream",
          "name": "stdout",
          "text": [
            "False\n"
          ]
        }
      ]
    },
    {
      "cell_type": "code",
      "source": [
        "def myfuncton():\n",
        "  return True\n",
        "if myfunction():\n",
        "  print(\"Yes\")\n",
        "else:\n",
        "  print(\"No\")"
      ],
      "metadata": {
        "colab": {
          "base_uri": "https://localhost:8080/"
        },
        "id": "-bQmVMxL2oV5",
        "outputId": "2ebd0a99-847f-4b10-c79e-279d23d243bf"
      },
      "execution_count": 24,
      "outputs": [
        {
          "output_type": "stream",
          "name": "stdout",
          "text": [
            "No\n"
          ]
        }
      ]
    },
    {
      "cell_type": "code",
      "source": [
        "print(10>9)\n",
        "\n",
        "a=6\n",
        "b=7\n",
        "print(a==b)\n",
        "print(a!=b)"
      ],
      "metadata": {
        "colab": {
          "base_uri": "https://localhost:8080/"
        },
        "id": "YR5aHHPL3fJk",
        "outputId": "a563307b-35a5-445b-ebda-245dfdcfb072"
      },
      "execution_count": 26,
      "outputs": [
        {
          "output_type": "stream",
          "name": "stdout",
          "text": [
            "True\n",
            "False\n",
            "True\n"
          ]
        }
      ]
    },
    {
      "cell_type": "code",
      "source": [
        "print(10%5)\n",
        "print(10//3)\n",
        "print(10**2)"
      ],
      "metadata": {
        "colab": {
          "base_uri": "https://localhost:8080/"
        },
        "id": "Wc6hUdpX32Xr",
        "outputId": "7057442a-060f-4ab5-872b-866806cf0256"
      },
      "execution_count": 30,
      "outputs": [
        {
          "output_type": "stream",
          "name": "stdout",
          "text": [
            "0\n",
            "3\n",
            "100\n"
          ]
        }
      ]
    },
    {
      "cell_type": "markdown",
      "source": [
        "Pyton operators"
      ],
      "metadata": {
        "id": "U4s5EX6M4Xq8"
      }
    },
    {
      "cell_type": "code",
      "source": [
        "print(10+5)\n",
        "print(10-5)\n",
        "print(10*5)\n",
        "print(10**5)\n",
        "print(10/5)\n",
        "print(10//5)\n",
        "print(10%5)"
      ],
      "metadata": {
        "colab": {
          "base_uri": "https://localhost:8080/"
        },
        "id": "IfanVZ4q4ZVU",
        "outputId": "a18bda73-0da1-40aa-d3af-57dde62a1f30"
      },
      "execution_count": 33,
      "outputs": [
        {
          "output_type": "stream",
          "name": "stdout",
          "text": [
            "15\n",
            "5\n",
            "50\n",
            "100000\n",
            "2.0\n",
            "2\n",
            "0\n"
          ]
        }
      ]
    },
    {
      "cell_type": "code",
      "source": [
        "a  =60\n",
        "b  =13\n",
        "a>>1"
      ],
      "metadata": {
        "colab": {
          "base_uri": "https://localhost:8080/"
        },
        "id": "-FTebzrX755z",
        "outputId": "0aa61054-1599-4a64-e090-636dfb741976"
      },
      "execution_count": 40,
      "outputs": [
        {
          "output_type": "execute_result",
          "data": {
            "text/plain": [
              "30"
            ]
          },
          "metadata": {},
          "execution_count": 40
        }
      ]
    },
    {
      "cell_type": "markdown",
      "source": [
        "Pyton assignment operators"
      ],
      "metadata": {
        "id": "0YcFOzU_-D8D"
      }
    },
    {
      "cell_type": "code",
      "source": [
        "x =1\n",
        "x+=3 #same as x = x+3\n",
        "print(x)\n",
        "x =1 \n",
        "x-=3\n",
        "print(x)\n",
        "x =1\n",
        "x*=3\n",
        "print(x)\n",
        "x =1\n",
        "x%=3\n",
        "print(x)\n"
      ],
      "metadata": {
        "colab": {
          "base_uri": "https://localhost:8080/"
        },
        "id": "dlz-d7dy-Gqb",
        "outputId": "ec47eae5-00bb-44c3-94ec-2c7a43b5d1ae"
      },
      "execution_count": 51,
      "outputs": [
        {
          "output_type": "stream",
          "name": "stdout",
          "text": [
            "4\n",
            "-2\n",
            "3\n",
            "1\n"
          ]
        }
      ]
    },
    {
      "cell_type": "markdown",
      "source": [
        "Logical operators"
      ],
      "metadata": {
        "id": "SD_06fp8_Xen"
      }
    },
    {
      "cell_type": "code",
      "source": [
        "x = True\n",
        "y = False"
      ],
      "metadata": {
        "id": "iEK-UMjO_uwG"
      },
      "execution_count": 53,
      "outputs": []
    },
    {
      "cell_type": "code",
      "source": [
        "print(x and  y)\n",
        "print(x or y)\n",
        "print(not(x or y))"
      ],
      "metadata": {
        "colab": {
          "base_uri": "https://localhost:8080/"
        },
        "id": "rlcMS3jUAsH3",
        "outputId": "26c75b5d-4eeb-479a-ae03-47577355f31d"
      },
      "execution_count": 54,
      "outputs": [
        {
          "output_type": "stream",
          "name": "stdout",
          "text": [
            "False\n",
            "True\n",
            "False\n"
          ]
        }
      ]
    },
    {
      "cell_type": "markdown",
      "source": [
        "Identity operators"
      ],
      "metadata": {
        "id": "lj9b43B-BB2H"
      }
    },
    {
      "cell_type": "code",
      "source": [
        "print (x is y)\n",
        "print (x is not y)"
      ],
      "metadata": {
        "colab": {
          "base_uri": "https://localhost:8080/"
        },
        "id": "VsJILcZLBDov",
        "outputId": "3fe0589f-21bb-49ab-cd8c-b691a0dfc017"
      },
      "execution_count": 57,
      "outputs": [
        {
          "output_type": "stream",
          "name": "stdout",
          "text": [
            "False\n",
            "True\n"
          ]
        }
      ]
    },
    {
      "cell_type": "markdown",
      "source": [
        "Application 1 create an aritmetic calculator  (MIDAS)"
      ],
      "metadata": {
        "id": "V8h3oNUrBywP"
      }
    },
    {
      "cell_type": "code",
      "source": [
        "s = int(input())\n",
        "i = int(input())\n",
        "print('',s * i)\n",
        "\n",
        "h = int(input())\n",
        "j = int(input())\n",
        "print(h / j)\n",
        "\n",
        "b = int(input())\n",
        "a = int(input())\n",
        "print(s + i)\n",
        "\n",
        "c = int(input())\n",
        "d = int(input())\n",
        "print(s - i)\n",
        "\n"
      ],
      "metadata": {
        "id": "M5NfW_T_CPkG"
      },
      "execution_count": null,
      "outputs": []
    },
    {
      "cell_type": "code",
      "source": [
        "op = input('*,/,+,- :')\n",
        "v1 = int(input('enter number value 1'))\n",
        "v2 = int(input('enter number value 2'))\n",
        "\n",
        "if op == '+':\n",
        " print(v1+v2)\n",
        "\n",
        " elif op == '-':\n",
        "   print(v1-v2)\n",
        " "
      ],
      "metadata": {
        "colab": {
          "base_uri": "https://localhost:8080/",
          "height": 130
        },
        "id": "FOHkryD5JsCa",
        "outputId": "fd2d0dd2-c70d-437f-c676-a87a0501ec35"
      },
      "execution_count": 99,
      "outputs": [
        {
          "output_type": "error",
          "ename": "SyntaxError",
          "evalue": "ignored",
          "traceback": [
            "\u001b[0;36m  File \u001b[0;32m\"<ipython-input-99-d58e7e2dbc04>\"\u001b[0;36m, line \u001b[0;32m8\u001b[0m\n\u001b[0;31m    elif op == '-':\u001b[0m\n\u001b[0m    ^\u001b[0m\n\u001b[0;31mSyntaxError\u001b[0m\u001b[0;31m:\u001b[0m invalid syntax\n"
          ]
        }
      ]
    },
    {
      "cell_type": "code",
      "source": [
        "def calculator():\n",
        "    while True:\n",
        "        print(\"\\nEnter an operation (+, -, *, /, or q to quit): \")\n",
        "        user_input = input()\n",
        "\n",
        "        if user_input == \"q\":\n",
        "            break\n",
        "        elif user_input in [\"+\", \"-\", \"*\", \"/\"]:\n",
        "            num1 = float(input(\"Enter a number: \"))\n",
        "            num2 = float(input(\"Enter another number: \"))\n",
        "            if user_input == \"+\":\n",
        "                result = num1 + num2\n",
        "            elif user_input == \"-\":\n",
        "                result = num1 - num2\n",
        "            elif user_input == \"*\":\n",
        "                result = num1 * num2\n",
        "            elif user_input == \"/\":\n",
        "                result = num1 / num2\n",
        "            print(\"Result:\", result)\n",
        "        else:\n",
        "            print(\"Unknown input\")\n",
        "\n",
        "calculator()"
      ],
      "metadata": {
        "id": "1l-tppRuMESV"
      },
      "execution_count": null,
      "outputs": []
    }
  ]
}