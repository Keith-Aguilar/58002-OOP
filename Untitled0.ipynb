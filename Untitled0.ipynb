{
  "nbformat": 4,
  "nbformat_minor": 0,
  "metadata": {
    "colab": {
      "provenance": [],
      "authorship_tag": "ABX9TyN9p5JWRRQzZEtXUEbJZfQL",
      "include_colab_link": true
    },
    "kernelspec": {
      "name": "python3",
      "display_name": "Python 3"
    },
    "language_info": {
      "name": "python"
    }
  },
  "cells": [
    {
      "cell_type": "markdown",
      "metadata": {
        "id": "view-in-github",
        "colab_type": "text"
      },
      "source": [
        "<a href=\"https://colab.research.google.com/github/Keith-Aguilar/58002-OOP/blob/main/Untitled0.ipynb\" target=\"_parent\"><img src=\"https://colab.research.google.com/assets/colab-badge.svg\" alt=\"Open In Colab\"/></a>"
      ]
    },
    {
      "cell_type": "markdown",
      "source": [
        "loop statement"
      ],
      "metadata": {
        "id": "4PR8sWyZnNpR"
      }
    },
    {
      "cell_type": "code",
      "source": [
        "week = [\"sunday\", \"Monday\", \"Tuesday\", \"wednsday\", \"Thursday\", \"Friday\", \"Saturday\"]\n",
        "for x in week:\n",
        "  print(x)"
      ],
      "metadata": {
        "colab": {
          "base_uri": "https://localhost:8080/"
        },
        "id": "7ptzQ6T8mg4V",
        "outputId": "23cd5789-e23c-45ba-f211-0706b292ad91"
      },
      "execution_count": 40,
      "outputs": [
        {
          "output_type": "stream",
          "name": "stdout",
          "text": [
            "sunday\n",
            "Monday\n",
            "Tuesday\n",
            "wednsday\n",
            "Thursday\n",
            "Friday\n",
            "Saturday\n"
          ]
        }
      ]
    },
    {
      "cell_type": "markdown",
      "source": [
        "for loop through string"
      ],
      "metadata": {
        "id": "SI6FrJGboQLw"
      }
    },
    {
      "cell_type": "code",
      "source": [
        "for x in \"week\":\n",
        " print(x)"
      ],
      "metadata": {
        "colab": {
          "base_uri": "https://localhost:8080/"
        },
        "id": "UFTXsIXMoSgI",
        "outputId": "1931bab2-4a16-49ad-bb8e-2a2cab650757"
      },
      "execution_count": 24,
      "outputs": [
        {
          "output_type": "stream",
          "name": "stdout",
          "text": [
            "w\n",
            "e\n",
            "e\n",
            "k\n"
          ]
        }
      ]
    },
    {
      "cell_type": "code",
      "source": [
        "for x in \"week\":\n",
        "  if x ==\"Thurday\":\n",
        "    break\n",
        "    print(x)"
      ],
      "metadata": {
        "id": "3tDBqDTtoqeY"
      },
      "execution_count": 56,
      "outputs": []
    },
    {
      "cell_type": "markdown",
      "source": [],
      "metadata": {
        "id": "bYcr1ANVqvxy"
      }
    },
    {
      "cell_type": "markdown",
      "source": [
        "to display only thursday"
      ],
      "metadata": {
        "id": "sqFxtCg0pJGw"
      }
    },
    {
      "cell_type": "code",
      "source": [
        "for x in week:\n",
        "  if x  == \"thursday\":\n",
        "   print(x)\n",
        "   break\n",
        "   "
      ],
      "metadata": {
        "id": "NS4W7h0ipLtQ"
      },
      "execution_count": 54,
      "outputs": []
    },
    {
      "cell_type": "markdown",
      "source": [
        "Range() Function"
      ],
      "metadata": {
        "id": "qIrP_TAoqz_6"
      }
    },
    {
      "cell_type": "code",
      "source": [
        "for x in range (6):\n",
        "  print(x)"
      ],
      "metadata": {
        "colab": {
          "base_uri": "https://localhost:8080/"
        },
        "id": "BPbVA_1Aq2yA",
        "outputId": "5c0ed175-b3ca-4b5c-e007-41da2a252fc6"
      },
      "execution_count": 45,
      "outputs": [
        {
          "output_type": "stream",
          "name": "stdout",
          "text": [
            "0\n",
            "1\n",
            "2\n",
            "3\n",
            "4\n",
            "5\n"
          ]
        }
      ]
    },
    {
      "cell_type": "code",
      "source": [
        "for x in range (2,6):\n",
        " print(x)"
      ],
      "metadata": {
        "colab": {
          "base_uri": "https://localhost:8080/"
        },
        "id": "O3iV2TmHq_f5",
        "outputId": "8c5d0dac-8832-43ae-f631-be5b20038cf0"
      },
      "execution_count": 50,
      "outputs": [
        {
          "output_type": "stream",
          "name": "stdout",
          "text": [
            "2\n",
            "3\n",
            "4\n",
            "5\n"
          ]
        }
      ]
    },
    {
      "cell_type": "code",
      "source": [
        "for x in range (2,6+1,2):\n",
        " print(x)"
      ],
      "metadata": {
        "colab": {
          "base_uri": "https://localhost:8080/"
        },
        "id": "Ses_oNJlrRsZ",
        "outputId": "d82b0fd1-f221-4c91-bd46-ba0a7ef4cd6a"
      },
      "execution_count": 53,
      "outputs": [
        {
          "output_type": "stream",
          "name": "stdout",
          "text": [
            "2\n",
            "4\n",
            "6\n"
          ]
        }
      ]
    },
    {
      "cell_type": "markdown",
      "source": [
        "Nested loop"
      ],
      "metadata": {
        "id": "YSPHiP-or0Px"
      }
    },
    {
      "cell_type": "code",
      "source": [
        "adjective = [\"red\", \"Big\", \"Tasty\"]\n",
        "fruits = [\"apple\", \"Banana\", \"Cherry\"]\n",
        "\n",
        "for x in adjective:\n",
        "  for y in fruits:\n",
        "    print(x,y)\n"
      ],
      "metadata": {
        "colab": {
          "base_uri": "https://localhost:8080/"
        },
        "id": "Naror781r1qR",
        "outputId": "83c843d1-b22f-4f7b-9adf-019f55030852"
      },
      "execution_count": 73,
      "outputs": [
        {
          "output_type": "stream",
          "name": "stdout",
          "text": [
            "red apple\n",
            "red Banana\n",
            "red Cherry\n",
            "Big apple\n",
            "Big Banana\n",
            "Big Cherry\n",
            "Tasty apple\n",
            "Tasty Banana\n",
            "Tasty Cherry\n"
          ]
        }
      ]
    },
    {
      "cell_type": "markdown",
      "source": [
        "whuile loop"
      ],
      "metadata": {
        "id": "hQuuBU9etDRg"
      }
    },
    {
      "cell_type": "code",
      "source": [
        "i = 1\n",
        "while i<=6:\n",
        " print(i)\n",
        "  i+=1"
      ],
      "metadata": {
        "colab": {
          "base_uri": "https://localhost:8080/",
          "height": 130
        },
        "id": "ZNyGyB2KtFkh",
        "outputId": "e91a0560-2b43-4a8a-c6a4-770d08589ccb"
      },
      "execution_count": 85,
      "outputs": [
        {
          "output_type": "error",
          "ename": "IndentationError",
          "evalue": "ignored",
          "traceback": [
            "\u001b[0;36m  File \u001b[0;32m\"<ipython-input-85-85b2079ac360>\"\u001b[0;36m, line \u001b[0;32m4\u001b[0m\n\u001b[0;31m    i+=1\u001b[0m\n\u001b[0m    ^\u001b[0m\n\u001b[0;31mIndentationError\u001b[0m\u001b[0;31m:\u001b[0m unexpected indent\n"
          ]
        }
      ]
    },
    {
      "cell_type": "markdown",
      "source": [
        "while loop using break statement"
      ],
      "metadata": {
        "id": "4k5WzWSPtuL3"
      }
    },
    {
      "cell_type": "code",
      "source": [
        "i = 1\n",
        "print(i)\n",
        "if i == 3:\n",
        "  break"
      ],
      "metadata": {
        "colab": {
          "base_uri": "https://localhost:8080/",
          "height": 148
        },
        "id": "h4msDLUutwSW",
        "outputId": "ff98a034-d584-4d96-fe00-1ad471516be1"
      },
      "execution_count": 82,
      "outputs": [
        {
          "output_type": "stream",
          "name": "stdout",
          "text": [
            "1\n"
          ]
        },
        {
          "output_type": "error",
          "ename": "SyntaxError",
          "evalue": "ignored",
          "traceback": [
            "\u001b[0;36m  File \u001b[0;32m\"<ipython-input-82-dc7c2412934c>\"\u001b[0;36m, line \u001b[0;32m4\u001b[0m\n\u001b[0;31m    break\u001b[0m\n\u001b[0m    ^\u001b[0m\n\u001b[0;31mSyntaxError\u001b[0m\u001b[0;31m:\u001b[0m 'break' outside loop\n"
          ]
        }
      ]
    },
    {
      "cell_type": "markdown",
      "source": [
        "display only 3"
      ],
      "metadata": {
        "id": "2nS-jJIhuIZf"
      }
    },
    {
      "cell_type": "code",
      "source": [
        "i =  1\n",
        "while 1<=6:\n",
        " if i == 3:\n",
        "  print(i)\n",
        "  break\n",
        "  1+=1"
      ],
      "metadata": {
        "colab": {
          "base_uri": "https://localhost:8080/",
          "height": 130
        },
        "id": "xMehZoEjuKSH",
        "outputId": "085cec61-df5e-4cdc-8b20-8d9f6c0be833"
      },
      "execution_count": 96,
      "outputs": [
        {
          "output_type": "error",
          "ename": "IndentationError",
          "evalue": "ignored",
          "traceback": [
            "\u001b[0;36m  File \u001b[0;32m\"<ipython-input-96-c91e9cc04044>\"\u001b[0;36m, line \u001b[0;32m6\u001b[0m\n\u001b[0;31m    1+=1\u001b[0m\n\u001b[0m    ^\u001b[0m\n\u001b[0;31mIndentationError\u001b[0m\u001b[0;31m:\u001b[0m unexpected indent\n"
          ]
        }
      ]
    },
    {
      "cell_type": "code",
      "source": [
        "adjective = [\"Hello\"]\n",
        "\n",
        "\n",
        "for x in adjective:\n",
        "  for y in range(11):\n",
        "    print(x,y)"
      ],
      "metadata": {
        "colab": {
          "base_uri": "https://localhost:8080/"
        },
        "id": "bkYUf2UFumvH",
        "outputId": "1b0290e8-cf6d-4f43-ea1d-c7aa2ef3bc4d"
      },
      "execution_count": 90,
      "outputs": [
        {
          "output_type": "stream",
          "name": "stdout",
          "text": [
            "Hello 0\n",
            "Hello 1\n",
            "Hello 2\n",
            "Hello 3\n",
            "Hello 4\n",
            "Hello 5\n",
            "Hello 6\n",
            "Hello 7\n",
            "Hello 8\n",
            "Hello 9\n",
            "Hello 10\n"
          ]
        }
      ]
    },
    {
      "cell_type": "markdown",
      "source": [
        "lets try"
      ],
      "metadata": {
        "id": "4ouh8Lf0vQhm"
      }
    },
    {
      "cell_type": "code",
      "source": [
        "adjective = [\"Hello\"]\n",
        "\n",
        "\n",
        "for x in adjective:\n",
        "  for y in range(-3,10):\n",
        "    print(x,y)"
      ],
      "metadata": {
        "colab": {
          "base_uri": "https://localhost:8080/"
        },
        "id": "og7PGKnGvRmn",
        "outputId": "7f93495e-f79e-4338-f0c7-37a063cab6f7"
      },
      "execution_count": 99,
      "outputs": [
        {
          "output_type": "stream",
          "name": "stdout",
          "text": [
            "Hello -3\n",
            "Hello -2\n",
            "Hello -1\n",
            "Hello 0\n",
            "Hello 1\n",
            "Hello 2\n",
            "Hello 3\n",
            "Hello 4\n",
            "Hello 5\n",
            "Hello 6\n",
            "Hello 7\n",
            "Hello 8\n",
            "Hello 9\n"
          ]
        }
      ]
    },
    {
      "cell_type": "markdown",
      "source": [],
      "metadata": {
        "id": "6mHm_MByunCX"
      }
    }
  ]
}