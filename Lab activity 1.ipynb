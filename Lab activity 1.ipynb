{
  "nbformat": 4,
  "nbformat_minor": 0,
  "metadata": {
    "colab": {
      "provenance": [],
      "authorship_tag": "ABX9TyNe0KzTcsq+42d+jp7r+F5E",
      "include_colab_link": true
    },
    "kernelspec": {
      "name": "python3",
      "display_name": "Python 3"
    },
    "language_info": {
      "name": "python"
    }
  },
  "cells": [
    {
      "cell_type": "markdown",
      "metadata": {
        "id": "view-in-github",
        "colab_type": "text"
      },
      "source": [
        "<a href=\"https://colab.research.google.com/github/Keith-Aguilar/58002-OOP/blob/main/Lab%20activity%201.ipynb\" target=\"_parent\"><img src=\"https://colab.research.google.com/assets/colab-badge.svg\" alt=\"Open In Colab\"/></a>"
      ]
    },
    {
      "cell_type": "markdown",
      "source": [
        "Lab activity 1"
      ],
      "metadata": {
        "id": "u-yoJ6W4slOL"
      }
    },
    {
      "cell_type": "code",
      "source": [
        "n = 20\n",
        "sum = 0\n",
        "average = 0\n",
        "total = n\n",
        "\n",
        "while n>=0:\n",
        "   sum += n\n",
        "   average = sum/total\n",
        "   print(\"sum = \", sum)\n",
        "   n -= 1\n",
        "   print(\"average is \",average)"
      ],
      "metadata": {
        "colab": {
          "base_uri": "https://localhost:8080/"
        },
        "id": "6xbaW8r9srNa",
        "outputId": "567885f4-aa93-42bb-fb66-b1003e8e019c"
      },
      "execution_count": 18,
      "outputs": [
        {
          "output_type": "stream",
          "name": "stdout",
          "text": [
            "sum =  20\n",
            "average is  1.0\n",
            "sum =  39\n",
            "average is  1.95\n",
            "sum =  57\n",
            "average is  2.85\n",
            "sum =  74\n",
            "average is  3.7\n",
            "sum =  90\n",
            "average is  4.5\n",
            "sum =  105\n",
            "average is  5.25\n",
            "sum =  119\n",
            "average is  5.95\n",
            "sum =  132\n",
            "average is  6.6\n",
            "sum =  144\n",
            "average is  7.2\n",
            "sum =  155\n",
            "average is  7.75\n",
            "sum =  165\n",
            "average is  8.25\n",
            "sum =  174\n",
            "average is  8.7\n",
            "sum =  182\n",
            "average is  9.1\n",
            "sum =  189\n",
            "average is  9.45\n",
            "sum =  195\n",
            "average is  9.75\n",
            "sum =  200\n",
            "average is  10.0\n",
            "sum =  204\n",
            "average is  10.2\n",
            "sum =  207\n",
            "average is  10.35\n",
            "sum =  209\n",
            "average is  10.45\n",
            "sum =  210\n",
            "average is  10.5\n",
            "sum =  210\n",
            "average is  10.5\n"
          ]
        }
      ]
    },
    {
      "cell_type": "code",
      "source": [
        "print(\"Input some integers to calculate their sum and average. Input 0 to exit.\")\n",
        "\n",
        "count = 0\n",
        "sum = 0.0\n",
        "number = 1\n",
        "\n",
        "while number != 0:\n",
        "\tnumber = int(input(\"\"))\n",
        "\tsum = sum + number\n",
        "\tcount += 1\n",
        "\n",
        "if count == 0:\n",
        "\tprint(\"Input some numbers\")\n",
        "else:\n",
        "\tprint(\"Average and Sum of the above numbers are: \", sum / (count-1), sum)"
      ],
      "metadata": {
        "colab": {
          "base_uri": "https://localhost:8080/"
        },
        "id": "srVmQUMFuF-A",
        "outputId": "43197d29-20da-49b0-8e0b-e6c71f80e643"
      },
      "execution_count": 4,
      "outputs": [
        {
          "output_type": "stream",
          "name": "stdout",
          "text": [
            "Input some integers to calculate their sum and average. Input 0 to exit.\n",
            "2\n",
            "3\n",
            "2\n",
            "4\n",
            "5\n",
            "9\n",
            "0\n",
            "Average and Sum of the above numbers are:  4.166666666666667 25.0\n"
          ]
        }
      ]
    }
  ]
}