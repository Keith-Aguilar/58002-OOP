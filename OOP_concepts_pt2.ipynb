{
  "nbformat": 4,
  "nbformat_minor": 0,
  "metadata": {
    "colab": {
      "provenance": [],
      "authorship_tag": "ABX9TyPfbxzVWX/M6tmd0utruz5q",
      "include_colab_link": true
    },
    "kernelspec": {
      "name": "python3",
      "display_name": "Python 3"
    },
    "language_info": {
      "name": "python"
    }
  },
  "cells": [
    {
      "cell_type": "markdown",
      "metadata": {
        "id": "view-in-github",
        "colab_type": "text"
      },
      "source": [
        "<a href=\"https://colab.research.google.com/github/Keith-Aguilar/58002-OOP/blob/main/OOP_concepts_pt2.ipynb\" target=\"_parent\"><img src=\"https://colab.research.google.com/assets/colab-badge.svg\" alt=\"Open In Colab\"/></a>"
      ]
    },
    {
      "cell_type": "markdown",
      "source": [
        "Mangling with__"
      ],
      "metadata": {
        "id": "tTqA-4oj72om"
      }
    },
    {
      "cell_type": "code",
      "source": [
        "class foo:\n",
        "  def __init__(self,a,b):\n",
        "    self.a = a\n",
        "    self.b = b\n",
        "    def add(self):\n",
        "      return self.a + self.b\n",
        "      foo_object = foo(3,4)\n",
        "      foo_object.add()"
      ],
      "metadata": {
        "id": "l4tS1lIS7-Jd"
      },
      "execution_count": 13,
      "outputs": []
    },
    {
      "cell_type": "markdown",
      "source": [],
      "metadata": {
        "id": "6nwPGaHJ9OCt"
      }
    },
    {
      "cell_type": "code",
      "source": [
        "#Class with multiple objects\n",
        "\n",
        "class bird:\n",
        "  def __init__(self,bird_name):\n",
        "     self.bird_name = bird_name\n",
        "  def flying_bird(self):\n",
        "    print(f\"the {self.bird_name} is the flying bird above the sky\")\n",
        "  def non_flying_bird(self):\n",
        "    print(f\"{self.bird_name} is the national birfd of the philippines\")\n",
        "\n",
        "vulture = bird(\"griffon vulture\")\n",
        "crane = bird(\"common crane\")\n",
        "emu = bird(\"emu\")\n",
        "\n",
        "vulture.flying_bird()\n",
        "crane.flying_bird()\n",
        "emu.non_flying_bird()\n",
        "    \n",
        "  "
      ],
      "metadata": {
        "colab": {
          "base_uri": "https://localhost:8080/"
        },
        "id": "PZjToRQ29OvF",
        "outputId": "26638bd2-6d73-40d3-dc99-a937d9c888b6"
      },
      "execution_count": 21,
      "outputs": [
        {
          "output_type": "stream",
          "name": "stdout",
          "text": [
            "the griffon vulture is the flying bird above the sky\n",
            "the common crane is the flying bird above the sky\n",
            "emu is the national birfd of the philippines\n"
          ]
        }
      ]
    },
    {
      "cell_type": "markdown",
      "source": [],
      "metadata": {
        "id": "OH0rAdWIA_O3"
      }
    },
    {
      "cell_type": "code",
      "source": [
        "class person:\n",
        "  def __init__(self, name, birthdate):\n",
        "    self.name = name\n",
        "    self.birthday = birthdate\n",
        "  def display(self):\n",
        "    print(\"my name is\", self.name)\n",
        "    print(\"my birthdate is\", self.birthdate)\n",
        "\n",
        "class student(person):\n",
        "  pass\n",
        "person = person(\"Keith\", \"january 13, 2003\")\n",
        "person.display()\n",
        "\n",
        "student = student(\"Keith\", \"january 13,2003\")\n",
        "student.display()"
      ],
      "metadata": {
        "colab": {
          "base_uri": "https://localhost:8080/",
          "height": 373
        },
        "id": "JV5NGBsjA_U-",
        "outputId": "cd3533f0-ee0b-4745-dc66-10fcbf9159b7"
      },
      "execution_count": 55,
      "outputs": [
        {
          "output_type": "stream",
          "name": "stdout",
          "text": [
            "my name is Keith\n"
          ]
        },
        {
          "output_type": "error",
          "ename": "AttributeError",
          "evalue": "ignored",
          "traceback": [
            "\u001b[0;31m---------------------------------------------------------------------------\u001b[0m",
            "\u001b[0;31mAttributeError\u001b[0m                            Traceback (most recent call last)",
            "\u001b[0;32m<ipython-input-55-0e07a6651b93>\u001b[0m in \u001b[0;36m<module>\u001b[0;34m\u001b[0m\n\u001b[1;32m     10\u001b[0m   \u001b[0;32mpass\u001b[0m\u001b[0;34m\u001b[0m\u001b[0;34m\u001b[0m\u001b[0m\n\u001b[1;32m     11\u001b[0m \u001b[0mperson\u001b[0m \u001b[0;34m=\u001b[0m \u001b[0mperson\u001b[0m\u001b[0;34m(\u001b[0m\u001b[0;34m\"Keith\"\u001b[0m\u001b[0;34m,\u001b[0m \u001b[0;34m\"january 13, 2003\"\u001b[0m\u001b[0;34m)\u001b[0m\u001b[0;34m\u001b[0m\u001b[0;34m\u001b[0m\u001b[0m\n\u001b[0;32m---> 12\u001b[0;31m \u001b[0mperson\u001b[0m\u001b[0;34m.\u001b[0m\u001b[0mdisplay\u001b[0m\u001b[0;34m(\u001b[0m\u001b[0;34m)\u001b[0m\u001b[0;34m\u001b[0m\u001b[0;34m\u001b[0m\u001b[0m\n\u001b[0m\u001b[1;32m     13\u001b[0m \u001b[0;34m\u001b[0m\u001b[0m\n\u001b[1;32m     14\u001b[0m \u001b[0mstudent\u001b[0m \u001b[0;34m=\u001b[0m \u001b[0mstudent\u001b[0m\u001b[0;34m(\u001b[0m\u001b[0;34m\"Keith\"\u001b[0m\u001b[0;34m,\u001b[0m \u001b[0;34m\"january 13,2003\"\u001b[0m\u001b[0;34m)\u001b[0m\u001b[0;34m\u001b[0m\u001b[0;34m\u001b[0m\u001b[0m\n",
            "\u001b[0;32m<ipython-input-55-0e07a6651b93>\u001b[0m in \u001b[0;36mdisplay\u001b[0;34m(self)\u001b[0m\n\u001b[1;32m      5\u001b[0m   \u001b[0;32mdef\u001b[0m \u001b[0mdisplay\u001b[0m\u001b[0;34m(\u001b[0m\u001b[0mself\u001b[0m\u001b[0;34m)\u001b[0m\u001b[0;34m:\u001b[0m\u001b[0;34m\u001b[0m\u001b[0;34m\u001b[0m\u001b[0m\n\u001b[1;32m      6\u001b[0m     \u001b[0mprint\u001b[0m\u001b[0;34m(\u001b[0m\u001b[0;34m\"my name is\"\u001b[0m\u001b[0;34m,\u001b[0m \u001b[0mself\u001b[0m\u001b[0;34m.\u001b[0m\u001b[0mname\u001b[0m\u001b[0;34m)\u001b[0m\u001b[0;34m\u001b[0m\u001b[0;34m\u001b[0m\u001b[0m\n\u001b[0;32m----> 7\u001b[0;31m     \u001b[0mprint\u001b[0m\u001b[0;34m(\u001b[0m\u001b[0;34m\"my birthdate is\"\u001b[0m\u001b[0;34m,\u001b[0m \u001b[0mself\u001b[0m\u001b[0;34m.\u001b[0m\u001b[0mbirthdate\u001b[0m\u001b[0;34m)\u001b[0m\u001b[0;34m\u001b[0m\u001b[0;34m\u001b[0m\u001b[0m\n\u001b[0m\u001b[1;32m      8\u001b[0m \u001b[0;34m\u001b[0m\u001b[0m\n\u001b[1;32m      9\u001b[0m \u001b[0;32mclass\u001b[0m \u001b[0mstudent\u001b[0m\u001b[0;34m(\u001b[0m\u001b[0mperson\u001b[0m\u001b[0;34m)\u001b[0m\u001b[0;34m:\u001b[0m\u001b[0;34m\u001b[0m\u001b[0;34m\u001b[0m\u001b[0m\n",
            "\u001b[0;31mAttributeError\u001b[0m: 'person' object has no attribute 'birthdate'"
          ]
        }
      ]
    },
    {
      "cell_type": "code",
      "source": [
        "# create a class name shapes (5 shapes)\n",
        "# arttributes side\n",
        "# create a function/method that displays the\n",
        "# number of sides of each shape"
      ],
      "metadata": {
        "id": "OelLQh-yGZOv"
      },
      "execution_count": null,
      "outputs": []
    },
    {
      "cell_type": "code",
      "source": [
        "class person:\n",
        "  def __init__(self, name, bdate):\n",
        "    self.name = name\n",
        "    self.bdate = bdate\n",
        "  def display(self):\n",
        "    print(\"My name is \", self.name)\n",
        "    print(\"My birthdate is \", self.bdate)\n",
        "  \n",
        "class student(person):\n",
        "  pass \n",
        "person = person(\"Marie\", \"Febuary 29, 2001\")\n",
        "person.display()\n",
        "\n",
        "student = student(\"Juana\", \"Febuary 30, 2000\")\n",
        "student.display()"
      ],
      "metadata": {
        "colab": {
          "base_uri": "https://localhost:8080/"
        },
        "id": "FiHrrrIFGo5X",
        "outputId": "26356ff9-de43-4458-c47e-33fc7d6112a5"
      },
      "execution_count": 57,
      "outputs": [
        {
          "output_type": "stream",
          "name": "stdout",
          "text": [
            "My name is  Marie\n",
            "My birthdate is  Febuary 29, 2001\n",
            "My name is  Juana\n",
            "My birthdate is  Febuary 30, 2000\n"
          ]
        }
      ]
    },
    {
      "cell_type": "code",
      "source": [
        "class Shapes:\n",
        "    def __init__(self, sides):\n",
        "        self.sides = sides\n",
        "        \n",
        "    def display_sides(self):\n",
        "        print(f\"This shape has {self.sides} sides.\")\n",
        "        \n",
        "triangle = Shapes(3)\n",
        "square = Shapes(4)\n",
        "pentagon = Shapes(5)\n",
        "hexagon = Shapes(6)\n",
        "octagon = Shapes(8)\n",
        "\n",
        "triangle.display_sides()  # This shape has 3 sides.\n",
        "square.display_sides()  # This shape has 4 sides.\n",
        "pentagon.display_sides()  # This shape has 5 sides.\n",
        "hexagon.display_sides()  # This shape has 6 sides.\n",
        "octagon.display_sides()  # This shape has 8 sides."
      ],
      "metadata": {
        "colab": {
          "base_uri": "https://localhost:8080/"
        },
        "id": "WU6GmR2xIVcf",
        "outputId": "d91dafb2-b08b-4a06-8845-034175332456"
      },
      "execution_count": 63,
      "outputs": [
        {
          "output_type": "stream",
          "name": "stdout",
          "text": [
            "This shape has 3 sides.\n",
            "This shape has 4 sides.\n",
            "This shape has 5 sides.\n",
            "This shape has 6 sides.\n",
            "This shape has 8 sides.\n"
          ]
        }
      ]
    }
  ]
}