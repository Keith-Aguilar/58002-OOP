{
  "nbformat": 4,
  "nbformat_minor": 0,
  "metadata": {
    "colab": {
      "provenance": [],
      "authorship_tag": "ABX9TyMHwOBicXlOlLhcuAxj7Fld",
      "include_colab_link": true
    },
    "kernelspec": {
      "name": "python3",
      "display_name": "Python 3"
    },
    "language_info": {
      "name": "python"
    }
  },
  "cells": [
    {
      "cell_type": "markdown",
      "metadata": {
        "id": "view-in-github",
        "colab_type": "text"
      },
      "source": [
        "<a href=\"https://colab.research.google.com/github/Keith-Aguilar/58002-OOP/blob/main/Hands_on_1.ipynb\" target=\"_parent\"><img src=\"https://colab.research.google.com/assets/colab-badge.svg\" alt=\"Open In Colab\"/></a>"
      ]
    },
    {
      "cell_type": "code",
      "execution_count": 5,
      "metadata": {
        "colab": {
          "base_uri": "https://localhost:8080/"
        },
        "id": "Eo4CXPbG-hrU",
        "outputId": "8eb86cbb-3c71-4851-d41b-e599784f7a0a"
      },
      "outputs": [
        {
          "output_type": "stream",
          "name": "stdout",
          "text": [
            "The grade of Student 1\n",
            "\n",
            "Prelim Grade: 82\n",
            "\n",
            "Midterm Grade: 82\n",
            "\n",
            "Final Grade: 85\n",
            "\n",
            "Average: 83.0\n",
            "\n",
            "The grade of Student 2\n",
            "\n",
            "Prelim Grade: 80\n",
            "\n",
            "Midterm Grade: 90\n",
            "\n",
            "Final Grade: 84\n",
            "\n",
            "Average: 84.67\n",
            "\n",
            "The grade of Student 3\n",
            "\n",
            "Prelim Grade: 82\n",
            "\n",
            "Midterm Grade: 88\n",
            "\n",
            "Final Grade: 91\n",
            "\n",
            "Average: 87.0\n",
            "\n"
          ]
        }
      ],
      "source": [
        "class Person:\n",
        "  def __init__(self, student, pre, mid, fin):\n",
        "    self.__student = student\n",
        "    self.__pre = pre\n",
        "    self.__mid = mid\n",
        "    self.__fin = fin\n",
        "\n",
        "  def grades(self):\n",
        "    return (self.__pre + self.__mid + self.__fin) / 3\n",
        "\n",
        "  def display(self):\n",
        "    print(f\"The grade of {self.__student}\\n\")\n",
        "    print(f\"Prelim Grade: {self.__pre}\\n\")\n",
        "    print(f\"Midterm Grade: {self.__mid}\\n\")\n",
        "    print(f\"Final Grade: {self.__fin}\\n\")\n",
        "    print(f\"Average: {round(self.grades(),2)}\\n\")\n",
        "\n",
        "class Student_1(Person):\n",
        "  pass\n",
        "class Student_2(Person):\n",
        "  pass\n",
        "class Student_3(Person):\n",
        "  pass\n",
        "\n",
        "student1 = Student_1(\"Student 1\", 82, 82, 85)\n",
        "student1.display()\n",
        "\n",
        "student2 = Student_2(\"Student 2\", 80, 90, 84)\n",
        "student2.display()\n",
        "\n",
        "student3 = Student_3(\"Student 3\", 82, 88, 91)\n",
        "student3.display()"
      ]
    },
    {
      "cell_type": "markdown",
      "source": [
        "1. Create a python program that displays the students (student 1, Student 2, Student 3,) and the term grade\n",
        "\n",
        "2. Create a class name Person and attributes - std1, std2, std3, pre, mid, fin,\n",
        "\n",
        "3. Compute the average of each term grade using grade() method\n",
        "4. Information about students grade must be hidden from others"
      ],
      "metadata": {
        "id": "vL0uPKDI-xEl"
      }
    }
  ]
}