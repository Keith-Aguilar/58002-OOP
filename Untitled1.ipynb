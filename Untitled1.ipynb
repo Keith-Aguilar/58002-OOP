{
  "nbformat": 4,
  "nbformat_minor": 0,
  "metadata": {
    "colab": {
      "provenance": [],
      "authorship_tag": "ABX9TyP2Duq0FvCLHhsfeQJs8GMI",
      "include_colab_link": true
    },
    "kernelspec": {
      "name": "python3",
      "display_name": "Python 3"
    },
    "language_info": {
      "name": "python"
    }
  },
  "cells": [
    {
      "cell_type": "markdown",
      "metadata": {
        "id": "view-in-github",
        "colab_type": "text"
      },
      "source": [
        "<a href=\"https://colab.research.google.com/github/Keith-Aguilar/58002-OOP/blob/main/Untitled1.ipynb\" target=\"_parent\"><img src=\"https://colab.research.google.com/assets/colab-badge.svg\" alt=\"Open In Colab\"/></a>"
      ]
    },
    {
      "cell_type": "code",
      "execution_count": 19,
      "metadata": {
        "colab": {
          "base_uri": "https://localhost:8080/"
        },
        "id": "YYeRDoJdzcqU",
        "outputId": "bfd9d92f-ed3f-48b4-e79c-63b743b40b21"
      },
      "outputs": [
        {
          "output_type": "execute_result",
          "data": {
            "text/plain": [
              "50"
            ]
          },
          "metadata": {},
          "execution_count": 19
        }
      ],
      "source": [
        "class shape:\n",
        "  def __init__(self, length, width):\n",
        "    self.length = length\n",
        "    self.width = width\n",
        "\n",
        "  def area_rec(self):\n",
        "      return self.length * self.width\n",
        "  #def area_sqr(self,side):\n",
        "      # return self.side * self.side\n",
        "\n",
        "rectangle = shape(10,5)\n",
        "rectangle.area_rec()\n"
      ]
    },
    {
      "cell_type": "markdown",
      "source": [
        "create a function that will display your full name and name your class as a person"
      ],
      "metadata": {
        "id": "JXNKFu9x3efi"
      }
    },
    {
      "cell_type": "code",
      "source": [
        "class person:\n",
        "  def __init__(self, first name, last name, Mi):\n",
        "    self.first name = first name\n",
        "    self.last name = last name\n",
        "    self.Mi = Mi\n",
        "\n",
        "  def fullname(self):\n",
        "    return self.first name + self.last name + self.Mi\n",
        "name = person(\"Keith Vincent \", \"Aguilar \", \"MI\")\n",
        "name.fullname()\n",
        "\n"
      ],
      "metadata": {
        "colab": {
          "base_uri": "https://localhost:8080/",
          "height": 130
        },
        "id": "DeNH22eU3gJC",
        "outputId": "381126e9-2cef-4664-82aa-ac331ea5d1af"
      },
      "execution_count": 55,
      "outputs": [
        {
          "output_type": "error",
          "ename": "SyntaxError",
          "evalue": "ignored",
          "traceback": [
            "\u001b[0;36m  File \u001b[0;32m\"<ipython-input-55-95621eaa57cd>\"\u001b[0;36m, line \u001b[0;32m2\u001b[0m\n\u001b[0;31m    def __init__(self, first name, last name, Mi):\u001b[0m\n\u001b[0m                             ^\u001b[0m\n\u001b[0;31mSyntaxError\u001b[0m\u001b[0;31m:\u001b[0m invalid syntax\n"
          ]
        }
      ]
    },
    {
      "cell_type": "code",
      "source": [
        "class person:\n",
        "  def __init__(self, firstname, MI , lastname):\n",
        "    self.firstname = firstname\n",
        "    self.MI = MI\n",
        "    self.lastname = lastname\n",
        "\n",
        "  def name(self):\n",
        "      return self.firstname + self.MI + self.lastname\n",
        "name = person(\"Keith Vincent \", \"T \", \"Aguilar \")\n",
        "name.name()"
      ],
      "metadata": {
        "colab": {
          "base_uri": "https://localhost:8080/",
          "height": 35
        },
        "id": "V3fgLzhF8Htr",
        "outputId": "e5bc79eb-eb9c-4bc0-b1c2-5f543053ca2b"
      },
      "execution_count": 85,
      "outputs": [
        {
          "output_type": "execute_result",
          "data": {
            "text/plain": [
              "'Keith Vincent T Aguilar '"
            ],
            "application/vnd.google.colaboratory.intrinsic+json": {
              "type": "string"
            }
          },
          "metadata": {},
          "execution_count": 85
        }
      ]
    }
  ]
}