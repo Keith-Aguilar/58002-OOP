{
  "nbformat": 4,
  "nbformat_minor": 0,
  "metadata": {
    "colab": {
      "provenance": [],
      "authorship_tag": "ABX9TyPawI14YFAtwXDQNy5l+qxH",
      "include_colab_link": true
    },
    "kernelspec": {
      "name": "python3",
      "display_name": "Python 3"
    },
    "language_info": {
      "name": "python"
    }
  },
  "cells": [
    {
      "cell_type": "markdown",
      "metadata": {
        "id": "view-in-github",
        "colab_type": "text"
      },
      "source": [
        "<a href=\"https://colab.research.google.com/github/Keith-Aguilar/58002-OOP/blob/main/Untitled1.ipynb\" target=\"_parent\"><img src=\"https://colab.research.google.com/assets/colab-badge.svg\" alt=\"Open In Colab\"/></a>"
      ]
    },
    {
      "cell_type": "code",
      "execution_count": 19,
      "metadata": {
        "colab": {
          "base_uri": "https://localhost:8080/"
        },
        "id": "YYeRDoJdzcqU",
        "outputId": "bfd9d92f-ed3f-48b4-e79c-63b743b40b21"
      },
      "outputs": [
        {
          "output_type": "execute_result",
          "data": {
            "text/plain": [
              "50"
            ]
          },
          "metadata": {},
          "execution_count": 19
        }
      ],
      "source": [
        "class shape:\n",
        "  def __init__(self, length, width):\n",
        "    self.length = length\n",
        "    self.width = width\n",
        "\n",
        "  def area_rec(self):\n",
        "      return self.length * self.width\n",
        "  #def area_sqr(self,side):\n",
        "      # return self.side * self.side\n",
        "\n",
        "rectangle = shape(10,5)\n",
        "rectangle.area_rec()\n"
      ]
    },
    {
      "cell_type": "markdown",
      "source": [],
      "metadata": {
        "id": "JXNKFu9x3efi"
      }
    },
    {
      "cell_type": "code",
      "source": [],
      "metadata": {
        "id": "DeNH22eU3gJC"
      },
      "execution_count": null,
      "outputs": []
    }
  ]
}