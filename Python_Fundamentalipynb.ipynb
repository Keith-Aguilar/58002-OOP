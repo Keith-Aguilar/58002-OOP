{
  "nbformat": 4,
  "nbformat_minor": 0,
  "metadata": {
    "colab": {
      "provenance": [],
      "authorship_tag": "ABX9TyP5oc+FLDpjii1TrOXbhXjS",
      "include_colab_link": true
    },
    "kernelspec": {
      "name": "python3",
      "display_name": "Python 3"
    },
    "language_info": {
      "name": "python"
    }
  },
  "cells": [
    {
      "cell_type": "markdown",
      "metadata": {
        "id": "view-in-github",
        "colab_type": "text"
      },
      "source": [
        "<a href=\"https://colab.research.google.com/github/Keith-Aguilar/58002-OOP/blob/main/Python_Fundamentalipynb.ipynb\" target=\"_parent\"><img src=\"https://colab.research.google.com/assets/colab-badge.svg\" alt=\"Open In Colab\"/></a>"
      ]
    },
    {
      "cell_type": "code",
      "execution_count": null,
      "metadata": {
        "id": "MqXTEUZ7wsnk"
      },
      "outputs": [],
      "source": []
    },
    {
      "cell_type": "markdown",
      "source": [
        "Phyton Indentation"
      ],
      "metadata": {
        "id": "QN0G2t_Rw_K9"
      }
    },
    {
      "cell_type": "code",
      "source": [
        "if 5>2:\n",
        "  print(\"5>2\")\n"
      ],
      "metadata": {
        "colab": {
          "base_uri": "https://localhost:8080/"
        },
        "id": "-qF1QvxYxDwV",
        "outputId": "9ca4bc99-7b93-4fc5-f615-35ce9f603c64"
      },
      "execution_count": 1,
      "outputs": [
        {
          "output_type": "stream",
          "name": "stdout",
          "text": [
            "5>2\n"
          ]
        }
      ]
    },
    {
      "cell_type": "markdown",
      "source": [
        "Phyton Comment"
      ],
      "metadata": {
        "id": "r0W4cpx9x62k"
      }
    },
    {
      "cell_type": "code",
      "source": [
        "#This is a comment\n",
        "print(\"Hello world\") \n"
      ],
      "metadata": {
        "colab": {
          "base_uri": "https://localhost:8080/"
        },
        "id": "99VTLGyox9vM",
        "outputId": "2bb6df7b-bf6c-436f-9b4f-59299e252099"
      },
      "execution_count": 2,
      "outputs": [
        {
          "output_type": "stream",
          "name": "stdout",
          "text": [
            "Hello world\n"
          ]
        }
      ]
    },
    {
      "cell_type": "markdown",
      "source": [
        "Naming Variable"
      ],
      "metadata": {
        "id": "Qn_YGLU4yRWc"
      }
    },
    {
      "cell_type": "code",
      "source": [
        "#single variable with single value\n",
        "x = 1\n",
        "y = 2\n",
        "print (x)\n",
        "print (y)\n",
        "\n",
        "#multiple variable with a single value\n",
        "a = b = c = \"maria\"\n",
        "\n",
        "print(a)\n",
        "print(b)\n",
        "print(c)"
      ],
      "metadata": {
        "colab": {
          "base_uri": "https://localhost:8080/"
        },
        "id": "xyswLyO7yf5s",
        "outputId": "dae627d0-e25b-46e1-e155-16aff9c43512"
      },
      "execution_count": 7,
      "outputs": [
        {
          "output_type": "stream",
          "name": "stdout",
          "text": [
            "1\n",
            "2\n",
            "maria\n",
            "maria\n",
            "maria\n"
          ]
        }
      ]
    }
  ]
}