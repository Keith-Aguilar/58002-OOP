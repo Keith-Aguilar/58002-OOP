{
  "nbformat": 4,
  "nbformat_minor": 0,
  "metadata": {
    "colab": {
      "provenance": [],
      "authorship_tag": "ABX9TyN/Q1roV3jQbrDURRKmhJzP",
      "include_colab_link": true
    },
    "kernelspec": {
      "name": "python3",
      "display_name": "Python 3"
    },
    "language_info": {
      "name": "python"
    }
  },
  "cells": [
    {
      "cell_type": "markdown",
      "metadata": {
        "id": "view-in-github",
        "colab_type": "text"
      },
      "source": [
        "<a href=\"https://colab.research.google.com/github/Keith-Aguilar/58002-OOP/blob/main/Python_Fundamentalipynb.ipynb\" target=\"_parent\"><img src=\"https://colab.research.google.com/assets/colab-badge.svg\" alt=\"Open In Colab\"/></a>"
      ]
    },
    {
      "cell_type": "code",
      "execution_count": null,
      "metadata": {
        "id": "MqXTEUZ7wsnk"
      },
      "outputs": [],
      "source": []
    },
    {
      "cell_type": "markdown",
      "source": [
        "Phyton Indentation"
      ],
      "metadata": {
        "id": "QN0G2t_Rw_K9"
      }
    },
    {
      "cell_type": "code",
      "source": [
        "if 5>2:\n",
        "  print(\"5>2\")\n"
      ],
      "metadata": {
        "colab": {
          "base_uri": "https://localhost:8080/"
        },
        "id": "-qF1QvxYxDwV",
        "outputId": "9ca4bc99-7b93-4fc5-f615-35ce9f603c64"
      },
      "execution_count": 1,
      "outputs": [
        {
          "output_type": "stream",
          "name": "stdout",
          "text": [
            "5>2\n"
          ]
        }
      ]
    },
    {
      "cell_type": "markdown",
      "source": [
        "Phyton Comment"
      ],
      "metadata": {
        "id": "r0W4cpx9x62k"
      }
    },
    {
      "cell_type": "code",
      "source": [
        "#This is a comment\n",
        "print(\"Hello world\") \n"
      ],
      "metadata": {
        "colab": {
          "base_uri": "https://localhost:8080/"
        },
        "id": "99VTLGyox9vM",
        "outputId": "2bb6df7b-bf6c-436f-9b4f-59299e252099"
      },
      "execution_count": 2,
      "outputs": [
        {
          "output_type": "stream",
          "name": "stdout",
          "text": [
            "Hello world\n"
          ]
        }
      ]
    },
    {
      "cell_type": "markdown",
      "source": [
        "Naming Variable"
      ],
      "metadata": {
        "id": "Qn_YGLU4yRWc"
      }
    },
    {
      "cell_type": "code",
      "source": [
        "#single variable with single value\n",
        "x = 1\n",
        "y = 2\n",
        "print (x)\n",
        "print (y)\n",
        "\n",
        "#multiple variable with a single value\n",
        "a = b = c = \"maria\"\n",
        "\n",
        "print(a)\n",
        "print(b)\n",
        "print(c)\n",
        "\n",
        "#Multiple variable with multiple variable\n",
        "\n",
        "e, f, g=1,2,3\n",
        "print (e)\n",
        "print (f)\n",
        "print (g)"
      ],
      "metadata": {
        "colab": {
          "base_uri": "https://localhost:8080/"
        },
        "id": "xyswLyO7yf5s",
        "outputId": "965522f7-c6c5-4bbc-9973-5c4f847d7e63"
      },
      "execution_count": 8,
      "outputs": [
        {
          "output_type": "stream",
          "name": "stdout",
          "text": [
            "1\n",
            "2\n",
            "maria\n",
            "maria\n",
            "maria\n",
            "1\n",
            "2\n",
            "3\n"
          ]
        }
      ]
    },
    {
      "cell_type": "markdown",
      "source": [
        "Single or double"
      ],
      "metadata": {
        "id": "HVQ1ug9-0pgW"
      }
    },
    {
      "cell_type": "code",
      "source": [
        "v = \"Sally\"\n",
        "u = \"Sally\"\n",
        "print (u)\n",
        "print (v)"
      ],
      "metadata": {
        "colab": {
          "base_uri": "https://localhost:8080/"
        },
        "id": "Vgv0SUR50ttd",
        "outputId": "ed567c3a-965a-4d76-a5ba-6078ec206d42"
      },
      "execution_count": 9,
      "outputs": [
        {
          "output_type": "stream",
          "name": "stdout",
          "text": [
            "Sally\n",
            "Sally\n"
          ]
        }
      ]
    },
    {
      "cell_type": "markdown",
      "source": [
        "Casting"
      ],
      "metadata": {
        "id": "JyJROUaP1EZe"
      }
    },
    {
      "cell_type": "code",
      "source": [
        "P = float(5)\n",
        "P"
      ],
      "metadata": {
        "colab": {
          "base_uri": "https://localhost:8080/"
        },
        "id": "8R0l1G2e1GWO",
        "outputId": "f429bfb0-f604-468b-c1ce-2d722c4744db"
      },
      "execution_count": 17,
      "outputs": [
        {
          "output_type": "execute_result",
          "data": {
            "text/plain": [
              "5.0"
            ]
          },
          "metadata": {},
          "execution_count": 17
        }
      ]
    },
    {
      "cell_type": "markdown",
      "source": [
        "#Type() Function"
      ],
      "metadata": {
        "id": "m2ERruMj1m-F"
      }
    },
    {
      "cell_type": "code",
      "source": [
        "f = \"Ana\"\n",
        "g = 4.56\n",
        "\n",
        "\n",
        "print (type(f))\n",
        "print(type(g))\n"
      ],
      "metadata": {
        "colab": {
          "base_uri": "https://localhost:8080/"
        },
        "id": "YuvRpl8t13Uu",
        "outputId": "97fdc739-5e04-47c7-8ab5-fab647306a98"
      },
      "execution_count": 24,
      "outputs": [
        {
          "output_type": "stream",
          "name": "stdout",
          "text": [
            "<class 'str'>\n",
            "<class 'float'>\n"
          ]
        }
      ]
    },
    {
      "cell_type": "markdown",
      "source": [
        "Output variable"
      ],
      "metadata": {
        "id": "pPs3K-iZ2xsV"
      }
    },
    {
      "cell_type": "code",
      "source": [
        "x = \"Enjoying\"\n",
        "print (\"Pythong programming is \" + x)"
      ],
      "metadata": {
        "colab": {
          "base_uri": "https://localhost:8080/"
        },
        "id": "DyUZ9k-R2zcl",
        "outputId": "d260844b-b04a-42c4-d8b3-080fd1f60740"
      },
      "execution_count": 28,
      "outputs": [
        {
          "output_type": "stream",
          "name": "stdout",
          "text": [
            "Pythong programming is Enjoying\n"
          ]
        }
      ]
    },
    {
      "cell_type": "markdown",
      "source": [
        "Concentation + Symbol"
      ],
      "metadata": {
        "id": "QoQ6YTCQ3-g2"
      }
    },
    {
      "cell_type": "code",
      "source": [
        "k = \"Enjoying\"\n",
        "J = \"Python Programming is\"\n",
        "print (\"Pyhton Programming is\" + \"\" + k)\n"
      ],
      "metadata": {
        "id": "DcYN9-uS4CkF"
      },
      "execution_count": null,
      "outputs": []
    }
  ]
}